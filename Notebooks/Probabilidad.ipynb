{
  "nbformat": 4,
  "nbformat_minor": 0,
  "metadata": {
    "colab": {
      "name": "Probabilidad.ipynb",
      "provenance": [],
      "collapsed_sections": []
    },
    "kernelspec": {
      "name": "python3",
      "display_name": "Python 3"
    },
    "language_info": {
      "name": "python"
    }
  },
  "cells": [
    {
      "cell_type": "code",
      "source": [
        "import math"
      ],
      "metadata": {
        "id": "sLH3bb-EQN-z"
      },
      "execution_count": null,
      "outputs": []
    },
    {
      "cell_type": "markdown",
      "source": [
        "# [Combinatoria](https://es.wikipedia.org/wiki/Combinatoria)\n",
        "La combinatoria es una rama de la matemática perteneciente al área de matemáticas discretas que estudia la enumeración, construcción y existencia de propiedades de configuraciones que satisfacen ciertas condiciones establecidas. Además, estudia las ordenaciones o agrupaciones de un determinado número de elementos.\n"
      ],
      "metadata": {
        "id": "aliANNlvPKTe"
      }
    },
    {
      "cell_type": "markdown",
      "source": [
        "## Permutacion\n",
        "\n",
        "Es la disposición de todos los elementos en un orden determinado.\n",
        "\n",
        "- Importa el orden\n",
        "- Incluye a todos los elementos\n",
        "\n",
        "$_{n}{{C}_{r}}=\\frac{{n!}}{{\\left( {n-r} \\right)!}}$\n",
        "\n",
        "*n* = Numero de objetos\n",
        "\n",
        "*r* = La cantidad a elegir\n",
        "\n",
        "Siempre se organiza el total de elementos en el espacio muestral"
      ],
      "metadata": {
        "id": "2igCHqtqPcVv"
      }
    },
    {
      "cell_type": "code",
      "source": [
        "def permutaciones(n=int, r=int):\n",
        "  resultado = math.factorial(n) / math.factorial(n - r)\n",
        "  return resultado\n",
        "\n",
        "datos = [0, 1, 2]\n",
        "cantidad = 2\n",
        "print(permutaciones(len(datos), cantidad))"
      ],
      "metadata": {
        "colab": {
          "base_uri": "https://localhost:8080/"
        },
        "id": "REB0HFdxZ9Fw",
        "outputId": "d119fbd0-4640-4bc9-8e3b-46ba4fa1e0a0"
      },
      "execution_count": null,
      "outputs": [
        {
          "output_type": "stream",
          "name": "stdout",
          "text": [
            "6.0\n"
          ]
        }
      ]
    },
    {
      "cell_type": "markdown",
      "source": [
        "## Variacion\n",
        "\n",
        "Es la disposición de una parte del total de elementos en un orden determinado.\n",
        "\n",
        "- Importa el orden\n"
      ],
      "metadata": {
        "id": "j4rBgkWQP0Og"
      }
    },
    {
      "cell_type": "markdown",
      "source": [
        "### Con repeticion\n",
        "\n",
        "$\\bar{V}_{p}^{n} = n^{p}$\n",
        "\n",
        "*n* = Numero de elementos disponibles\n",
        "\n",
        "*p* = Numero de posiciones a llenar"
      ],
      "metadata": {
        "id": "I2huL1fGUeON"
      }
    },
    {
      "cell_type": "code",
      "source": [
        "def variacion_con_repeticion(n=int, p=int):\n",
        "  resultado = n**p\n",
        "  return resultado\n",
        "\n",
        "datos = [0, 1, 2]\n",
        "cantidad = 2\n",
        "print(variacion_con_repeticion(len(datos), cantidad))"
      ],
      "metadata": {
        "colab": {
          "base_uri": "https://localhost:8080/"
        },
        "id": "iZ8XRriNe2Aq",
        "outputId": "a343f7d4-e23c-4d4f-c49a-dae122e32b99"
      },
      "execution_count": null,
      "outputs": [
        {
          "output_type": "stream",
          "name": "stdout",
          "text": [
            "9\n"
          ]
        }
      ]
    },
    {
      "cell_type": "markdown",
      "source": [
        "### Sin repeticion\n",
        "\n",
        "${V_{p}^{n}} = \\frac{n!}{(n - p)!}$\n",
        "\n",
        "*n* = Numero de elementos disponibles\n",
        "\n",
        "*p* = Numero de posiciones a llenar"
      ],
      "metadata": {
        "id": "hvH4aiIRUgoP"
      }
    },
    {
      "cell_type": "code",
      "source": [
        "def variacion_sin_repeticion(n=int, p=int):\n",
        "  resultado = math.factorial(n) / math.factorial(n - p)\n",
        "  return resultado\n",
        "\n",
        "datos = [0, 1, 2]\n",
        "cantidad = 2\n",
        "print(variacion_sin_repeticion(len(datos), cantidad))"
      ],
      "metadata": {
        "colab": {
          "base_uri": "https://localhost:8080/"
        },
        "id": "Z0lY8ByYX0nz",
        "outputId": "5bf7b397-79f9-4efc-81b6-c120ec0094f0"
      },
      "execution_count": null,
      "outputs": [
        {
          "output_type": "stream",
          "name": "stdout",
          "text": [
            "6.0\n"
          ]
        }
      ]
    },
    {
      "cell_type": "markdown",
      "source": [
        "## Combinacion\n",
        "\n",
        "Es la disposición de una parte del total de elementos sin tener en cuenta el orden.\n",
        "\n",
        "- No importa el orden"
      ],
      "metadata": {
        "id": "-QOmzvT2P0eA"
      }
    },
    {
      "cell_type": "markdown",
      "source": [
        "### Con repeticion\n",
        "\n",
        "$\\bar{C_{p}^{n}} = \\frac{(n + p - 1)!}{p!(n-1)!}$\n",
        "\n",
        "n = Numero de elementos disponibles\n",
        "\n",
        "p = Numero de posiciones a llenar"
      ],
      "metadata": {
        "id": "6Ot2KnU7oxpW"
      }
    },
    {
      "cell_type": "code",
      "source": [
        "def combinacion_con_repeticion(n=int, p=int):\n",
        "  resultado = math.factorial(n + p - 1) / (math.factorial(p) * math.factorial(n - 1))\n",
        "  return resultado\n",
        "\n",
        "datos = [0, 1, 2]\n",
        "cantidad = 2\n",
        "print(combinacion_con_repeticion(len(datos), cantidad))"
      ],
      "metadata": {
        "colab": {
          "base_uri": "https://localhost:8080/"
        },
        "id": "Q44XJFwIpRvV",
        "outputId": "caa2d0f2-8435-4483-82eb-7bd25b52ce5f"
      },
      "execution_count": null,
      "outputs": [
        {
          "output_type": "stream",
          "name": "stdout",
          "text": [
            "6.0\n"
          ]
        }
      ]
    },
    {
      "cell_type": "markdown",
      "source": [
        "### Sin repeticion\n",
        "\n",
        "$C_{p}^{n}\\frac{V_{p}^{n}}{P_{p}}$\n",
        "\n",
        "$C_{p}^{n} = \\frac{n!}{p!(n-p)!}$\n",
        "\n",
        "*n* = Numero de elementos disponibles\n",
        "\n",
        "*p* = Numero de posiciones a llenar"
      ],
      "metadata": {
        "id": "BePjbdu0ou2X"
      }
    },
    {
      "cell_type": "code",
      "source": [
        "def combinacion_sin_repeticion(n=int, p=int):\n",
        "  resultado = math.factorial(n) / (math.factorial(p) * math.factorial(n - p))\n",
        "  return resultado\n",
        "\n",
        "datos = [0, 1, 2]\n",
        "cantidad = 2\n",
        "print(combinacion_sin_repeticion(len(datos), cantidad))"
      ],
      "metadata": {
        "colab": {
          "base_uri": "https://localhost:8080/"
        },
        "id": "cPssvyaviVw3",
        "outputId": "eab4a836-adb2-444a-e44d-6cc284ce87a9"
      },
      "execution_count": null,
      "outputs": [
        {
          "output_type": "stream",
          "name": "stdout",
          "text": [
            "3.0\n"
          ]
        }
      ]
    },
    {
      "cell_type": "markdown",
      "source": [
        "## Combinaciones con diferentes espacios muestrales"
      ],
      "metadata": {
        "id": "_h3jG5x-mp7N"
      }
    },
    {
      "cell_type": "code",
      "source": [
        "def combinacion_muestrales(n=list):\n",
        "  resultado = 1\n",
        "  for i in n:\n",
        "    if i > 0:\n",
        "      resultado *= i\n",
        "    else:\n",
        "      pass\n",
        "  return resultado\n",
        "\n",
        "datos = [0, 1, 2]\n",
        "print(combinacion_muestrales(datos))"
      ],
      "metadata": {
        "colab": {
          "base_uri": "https://localhost:8080/"
        },
        "id": "LmPXycq3monc",
        "outputId": "93ed0166-0f55-4d18-c7dc-93afd13e478e"
      },
      "execution_count": null,
      "outputs": [
        {
          "output_type": "stream",
          "name": "stdout",
          "text": [
            "2\n"
          ]
        }
      ]
    },
    {
      "cell_type": "markdown",
      "source": [
        "## Random"
      ],
      "metadata": {
        "id": "qzh0uyD3Te3i"
      }
    },
    {
      "cell_type": "markdown",
      "source": [
        "### Factoriales\n",
        "\n",
        "Es la multiplicacion de todos los numeros naturales desde 1 hasta n"
      ],
      "metadata": {
        "id": "la3JBys_TgsD"
      }
    },
    {
      "cell_type": "code",
      "source": [
        "numero = 10\n",
        "print(f\"El factorial de {numero} es: {math.factorial(numero)}\")"
      ],
      "metadata": {
        "colab": {
          "base_uri": "https://localhost:8080/"
        },
        "id": "kx49KErUTx3M",
        "outputId": "5c426930-7d39-4feb-c76c-ae154bbcb6c2"
      },
      "execution_count": null,
      "outputs": [
        {
          "output_type": "stream",
          "name": "stdout",
          "text": [
            "El factorial de 10 es: 3628800\n"
          ]
        }
      ]
    },
    {
      "cell_type": "markdown",
      "source": [
        "Todas las diferentes permutaciones de una combinacion son diferentes variaciones"
      ],
      "metadata": {
        "id": "i4NhNnCZijFY"
      }
    }
  ]
}